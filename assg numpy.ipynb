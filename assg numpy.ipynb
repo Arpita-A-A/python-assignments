{
 "cells": [
  {
   "cell_type": "code",
   "execution_count": 1,
   "metadata": {},
   "outputs": [
    {
     "data": {
      "text/plain": [
       "'Write a function so that the columns of the output matrix are powers of the input\\nvector.\\nThe order of the powers is determined by the increasing boolean argument. Specifically, when\\nincreasing is False, the i-th output column is the input vector raised element-wise to the power\\nof N - i - 1.\\n\\nHINT: Such a matrix with a geometric progression in each row is named for Alexandre-\\nTheophile Vandermonde.'"
      ]
     },
     "execution_count": 1,
     "metadata": {},
     "output_type": "execute_result"
    }
   ],
   "source": [
    "\"\"\"Write a function so that the columns of the output matrix are powers of the input\n",
    "vector.\n",
    "The order of the powers is determined by the increasing boolean argument. Specifically, when\n",
    "increasing is False, the i-th output column is the input vector raised element-wise to the power\n",
    "of N - i - 1.\n",
    "\n",
    "HINT: Such a matrix with a geometric progression in each row is named for Alexandre-\n",
    "Theophile Vandermonde.\"\"\""
   ]
  },
  {
   "cell_type": "code",
   "execution_count": 2,
   "metadata": {},
   "outputs": [
    {
     "name": "stdout",
     "output_type": "stream",
     "text": [
      "[[  1   1   1   1   1]\n",
      " [ 16   8   4   2   1]\n",
      " [ 81  27   9   3   1]\n",
      " [256  64  16   4   1]\n",
      " [625 125  25   5   1]]\n"
     ]
    }
   ],
   "source": [
    "import numpy as np \n",
    "x=np.array([1,2,3,4,5]) \n",
    "N=5\n",
    "matrix = np.column_stack([x**(N-i-1) for i in range(N)]) \n",
    "print(matrix) "
   ]
  },
  {
   "cell_type": "code",
   "execution_count": 3,
   "metadata": {},
   "outputs": [
    {
     "name": "stdout",
     "output_type": "stream",
     "text": [
      "[[  1   1   1   1   1]\n",
      " [ 16   8   4   2   1]\n",
      " [ 81  27   9   3   1]\n",
      " [256  64  16   4   1]\n",
      " [625 125  25   5   1]]\n"
     ]
    }
   ],
   "source": [
    " #Similar matrix is created using np.vander function in numpy\n",
    "import numpy as np \n",
    "x=np.array([1,2,3,4,5]) \n",
    "N=5 \n",
    "matrix1 = np.vander(x,N,increasing=False) \n",
    "print(matrix1)"
   ]
  },
  {
   "cell_type": "code",
   "execution_count": 4,
   "metadata": {},
   "outputs": [
    {
     "data": {
      "text/plain": [
       "'Given a sequence of n values x1, x2, ..., xn and a window size k>0, the k-th moving average of\\nthe given sequence is defined as follows:\\nThe moving average sequence has n-k+1 elements as shown below.\\nThe moving averages with k=4 of a ten-value sequence (n=10) is shown below\\ni 1 2 3 4 5 6 7 8 9 10\\n===== == == == == == == == == == ==\\nInput 10 20 30 40 50 60 70 80 90 100\\ny1 25 = (10+20+30+40)/4\\ny2 35 = (20+30+40+50)/4\\ny3 45 = (30+40+50+60)/4\\ny4 55 = (40+50+60+70)/4\\ny5 65 = (50+60+70+80)/4\\ny6 75 = (60+70+80+90)/4\\ny7 85 = (70+80+90+100)/4\\nThus, the moving average sequence has n-k+1=10-4+1=7 values.\\n\\nQuestion: Write a function to find moving average in an array over a window:\\nTest it over [3, 5, 7, 2, 8, 10, 11, 65, 72, 81, 99, 100, 150] and window of 3.'"
      ]
     },
     "execution_count": 4,
     "metadata": {},
     "output_type": "execute_result"
    }
   ],
   "source": [
    "\"\"\"Given a sequence of n values x1, x2, ..., xn and a window size k>0, the k-th moving average of\n",
    "the given sequence is defined as follows:\n",
    "The moving average sequence has n-k+1 elements as shown below.\n",
    "The moving averages with k=4 of a ten-value sequence (n=10) is shown below\n",
    "i 1 2 3 4 5 6 7 8 9 10\n",
    "===== == == == == == == == == == ==\n",
    "Input 10 20 30 40 50 60 70 80 90 100\n",
    "y1 25 = (10+20+30+40)/4\n",
    "y2 35 = (20+30+40+50)/4\n",
    "y3 45 = (30+40+50+60)/4\n",
    "y4 55 = (40+50+60+70)/4\n",
    "y5 65 = (50+60+70+80)/4\n",
    "y6 75 = (60+70+80+90)/4\n",
    "y7 85 = (70+80+90+100)/4\n",
    "Thus, the moving average sequence has n-k+1=10-4+1=7 values.\n",
    "\n",
    "Question: Write a function to find moving average in an array over a window:\n",
    "Test it over [3, 5, 7, 2, 8, 10, 11, 65, 72, 81, 99, 100, 150] and window of 3.\"\"\""
   ]
  },
  {
   "cell_type": "code",
   "execution_count": 19,
   "metadata": {},
   "outputs": [
    {
     "data": {
      "text/plain": [
       "array([  5.   ,   4.667,   5.667,   6.667,   9.667,  28.667,  49.333,\n",
       "        72.667,  84.   ,  93.333, 116.333])"
      ]
     },
     "execution_count": 19,
     "metadata": {},
     "output_type": "execute_result"
    }
   ],
   "source": [
    "import numpy as np\n",
    "\n",
    "def moving_average(a, n=3) :\n",
    "    asum = np.cumsum(a, dtype=float)     #we use np.cumsum to get a cumulative sum of the numbers\n",
    "    #print(asum)\n",
    "    asum[n:] = asum[n:] - asum[:-n]      #We are breaking the array as per desired number which is 'n' in our function and subtracting elements to get the desired result \n",
    "    #print(asum)\n",
    "    return asum[n - 1:] / n\n",
    "\n",
    "a=[3, 5, 7, 2, 8, 10, 11, 65, 72, 81, 99, 100, 150] \n",
    "a1=np.array(a) #rounding off the results to two digts \n",
    "np.array(moving_average(a1,n=3)).round(3) "
   ]
  },
  {
   "cell_type": "code",
   "execution_count": 20,
   "metadata": {},
   "outputs": [
    {
     "data": {
      "text/plain": [
       "array([25., 35., 45., 55., 65., 75., 85.])"
      ]
     },
     "execution_count": 20,
     "metadata": {},
     "output_type": "execute_result"
    }
   ],
   "source": [
    "b=[10,20,30,40,50,60,70,80,90,100]\n",
    "np.array(moving_average(b,n=4))\n"
   ]
  },
  {
   "cell_type": "code",
   "execution_count": null,
   "metadata": {},
   "outputs": [],
   "source": []
  }
 ],
 "metadata": {
  "kernelspec": {
   "display_name": "Python 3",
   "language": "python",
   "name": "python3"
  },
  "language_info": {
   "codemirror_mode": {
    "name": "ipython",
    "version": 3
   },
   "file_extension": ".py",
   "mimetype": "text/x-python",
   "name": "python",
   "nbconvert_exporter": "python",
   "pygments_lexer": "ipython3",
   "version": "3.7.6"
  }
 },
 "nbformat": 4,
 "nbformat_minor": 4
}
